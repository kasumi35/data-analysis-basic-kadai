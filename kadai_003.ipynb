# numpyの読み込み
import numpy as np


a = np.array([[0,1],[2,3],[4,5]])
b = np.array([[0,1,2,3],[4,5,6,7]])

#step 3
np.dot(a, b)
c = np.dot(a, b)


#step4
print(c)

#step5
c.max()
