#サンプルデータの取得 糖尿病

from sklearn.datasets import load_diabetes
#from sklearn.datasets import load_diabetes

diaberesset = load_diabetes()
diaberesset

X = diaberesset.data
y = diaberesset.target
#データの分割

#model_selectionモジュールのtrain_test_split関数を実行することで、分割できます。まずはtrain_test_split関数をインポート
from sklearn.model_selection import train_test_split

train_test_split(X,y,test_size=0.2, random_state=5)

#　代入
X_train, X_test, y_train, y_test = train_test_split(X,y,test_size=0.2, random_state=5)
print(X.shape, X_train.shape, X_test.shape, y.shape, y_train.shape, y_test.shape)



# 予測モデルのインスタンス化　ランダムフォレスト
from sklearn.ensemble import RandomForestClassifier
model = RandomForestClassifier(random_state=3)

# 以下のようにrandom_stateを指定しない場合、最終的に生成される予測モデルが実行毎に異なる可能性があります。これは、モデルの評価結果や予測結果が実行毎に変わってしまう可能性があること意味します。
# model = DecisionTreeClassifier()

model

#モデルの学習
model.fit(X_train, y_train)


#テストデータの予測
y_pred =model.predict(X_test)
y_pred


#テストデータの予測の評価
#accuracy_score関数をインポート
from sklearn.metrics import accuracy_score
# from サーキットレーン.モジュール（metrics)　import 関数（正解率：accuracy_score・適合率：precision_score・再現率：recall_score・F値：f1_score）


accuracy_score(y_test, y_pred)


