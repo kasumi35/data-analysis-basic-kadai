import numpy as np
import matplotlib.pyplot as plt

#ブラフを分割
fig, axes = plt.subplots(2,3,tight_layout=True)


#一つ目
y0 = [1, 2, -5, 2]
axes[0,0].plot(y0)

#2つ目


# データを作成
# 0から10までの幅で配列を等間隔に100個作成する
x1 = np.linspace(0, 10, 100)
y1 = 2 + 2 * np.sin( 2 * x1)

# プロット
  #fig, ax = plt.subplots()

#　2に、plot（ラインでグラフを表示）でx と　Yの式の　linewidth"線の太さ
axes[0,1].plot(x1, y1, linewidth=2.0)

#　2にset（ラインでグラフを表示）でx と　Yの式の　linewidth"線の太さ
axes[0,1].set(xlim=(0, 10), xticks=np.arange(0, 10), ylim=(-1, 5), yticks=np.arange(-1, 5))


# 平均が15, 標準偏差5の標準正規分布から2000個の乱数の生成する
x3 = np.random .normal(15, 5, 2000)
axes[0,2].hist(x3)
axes[0,2].set(xlim=(0, 40),  ylim=(0, 500))



# データを生成する
np.random.seed(3)
x4 = 4 + np.random.normal(0, 2, 60)
y4 = 4 + np.random.normal(0, 2, len(x4))

# プロットする

axes[1,0].scatter(x4,y4)
#axes[1,0].set(xlim=(0, 40),  ylim=(0, 500))

plt.show()

